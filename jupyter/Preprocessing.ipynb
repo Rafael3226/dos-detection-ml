{
 "cells": [
  {
   "cell_type": "code",
   "execution_count": 2,
   "metadata": {},
   "outputs": [
    {
     "name": "stdout",
     "output_type": "stream",
     "text": [
      "Number of rows: 225745\n"
     ]
    }
   ],
   "source": [
    "import pandas as pd\n",
    "import numpy as np\n",
    "\n",
    "df = pd.read_csv(\"../TrafficLabelling/Friday-WorkingHours-Afternoon-DDos.pcap_ISCX.csv\")\n",
    "\n",
    "# print number of rows\n",
    "print(\"Number of rows:\", df.shape[0])"
   ]
  },
  {
   "cell_type": "code",
   "execution_count": null,
   "metadata": {},
   "outputs": [],
   "source": [
    "#trim all and lower all columns\n",
    "df.columns = df.columns.str.strip()\n",
    "#trim all and lower all columns\n",
    "df.columns = df.columns.str.lower()"
   ]
  },
  {
   "cell_type": "code",
   "execution_count": null,
   "metadata": {},
   "outputs": [],
   "source": [
    "# Check for missing or null values and handle them\n",
    "print(df.isnull().sum()) # check for null values\n",
    "df.dropna() # drop rows with null values\n",
    "\n",
    "# Check for duplicate records and remove them if necessary\n",
    "print(df.duplicated().sum()) # check for duplicates\n",
    "df.drop_duplicates() # drop duplicate rows"
   ]
  },
  {
   "cell_type": "code",
   "execution_count": null,
   "metadata": {},
   "outputs": [],
   "source": [
    "# Convert label column to binary values\n",
    "df[\"label\"] = df[\"label\"].apply(lambda x: 0 if \"BENIGN\" in x else 1)\n",
    "df = df.rename(columns={'label': 'is attack'})"
   ]
  },
  {
   "cell_type": "code",
   "execution_count": null,
   "metadata": {},
   "outputs": [],
   "source": [
    "# Create new features that may be useful in detecting attacks\n",
    "df[\"total packet length\"] = df[\"total length of fwd packets\"] + df[\"total length of bwd packets\"]\n",
    "df[\"packet length ratio\"] = df[\"total length of fwd packets\"] / (df[\"total length of bwd packets\"] + 0.1)\n",
    "df[\"packet rate\"] = df[\"total fwd packets\"] + df[\"total backward packets\"]\n",
    "df[\"flow duration (ms)\"] = df[\"flow duration\"] / 1000"
   ]
  },
  {
   "cell_type": "code",
   "execution_count": null,
   "metadata": {},
   "outputs": [],
   "source": [
    "# Compute the correlation matrix between all features and the target variable\n",
    "corr_matrix = df.corr()['is attack'].sort_values()"
   ]
  },
  {
   "cell_type": "code",
   "execution_count": null,
   "metadata": {},
   "outputs": [],
   "source": [
    "# Set threshold for correlation with target variable\n",
    "corr_threshold = 0.2\n",
    "# get columns with NaN correlation\n",
    "nan_columns = list(corr_matrix[corr_matrix.isna()].index) "
   ]
  },
  {
   "cell_type": "code",
   "execution_count": null,
   "metadata": {},
   "outputs": [],
   "source": [
    "# Get a list of column names with correlation below a certain threshold (e.g. 0.1)\n",
    "low_corr_cols = list(corr_matrix[corr_matrix.abs() < corr_threshold].index) \n",
    "#append nan columns to low_corr_cols\n",
    "low_corr_cols.extend(nan_columns)\n",
    "# Drop columns with low correlation to target variable\n",
    "df = df.drop(low_corr_cols, axis=1)"
   ]
  },
  {
   "cell_type": "code",
   "execution_count": null,
   "metadata": {},
   "outputs": [],
   "source": [
    "# Export the new data set\n",
    "df.to_csv(\"preprocessed_dataset.csv\", index=False)"
   ]
  },
  {
   "cell_type": "code",
   "execution_count": null,
   "metadata": {},
   "outputs": [],
   "source": [
    "import matplotlib.pyplot as plt\n",
    "import seaborn as sns\n",
    "# Visualize the distribution of the target variable\n",
    "sns.countplot(x=\"is attack\", data=df)\n",
    "plt.title(\"Distribution of the target variable\")\n",
    "plt.show()"
   ]
  },
  {
   "cell_type": "code",
   "execution_count": null,
   "metadata": {},
   "outputs": [],
   "source": [
    "sns.heatmap(df.corr(), annot=False, cmap=\"coolwarm\")\n",
    "plt.title(\"Correlation matrix of the numerical columns\")\n",
    "plt.show()"
   ]
  },
  {
   "cell_type": "code",
   "execution_count": null,
   "metadata": {},
   "outputs": [],
   "source": [
    "# Visualize the box plots of the numerical columns\n",
    "plt.figure(figsize=(20,10))\n",
    "sns.boxplot(data=df)\n",
    "plt.title(\"Box plots of the numerical columns\")\n",
    "plt.xticks(rotation=90)\n",
    "plt.show()"
   ]
  },
  {
   "cell_type": "code",
   "execution_count": null,
   "metadata": {},
   "outputs": [],
   "source": [
    "from sklearn.model_selection import train_test_split\n",
    "\n",
    "# Load the dataset\n",
    "df = pd.read_csv('preprocessed_dataset.csv')\n",
    "\n",
    "# Split the dataset into training and test datasets\n",
    "train_df, test_df = train_test_split(df, test_size=0.2, random_state=42)\n",
    "\n",
    "# Export the datasets as CSV files\n",
    "train_df.to_csv('training.csv', index=False)\n",
    "test_df.to_csv('test.csv', index=False)"
   ]
  }
 ],
 "metadata": {
  "kernelspec": {
   "display_name": "Python 3",
   "language": "python",
   "name": "python3"
  },
  "language_info": {
   "codemirror_mode": {
    "name": "ipython",
    "version": 3
   },
   "file_extension": ".py",
   "mimetype": "text/x-python",
   "name": "python",
   "nbconvert_exporter": "python",
   "pygments_lexer": "ipython3",
   "version": "3.11.2"
  },
  "orig_nbformat": 4,
  "vscode": {
   "interpreter": {
    "hash": "c261aea317cc0286b3b3261fbba9abdec21eaa57589985bb7a274bf54d6cc0a7"
   }
  }
 },
 "nbformat": 4,
 "nbformat_minor": 2
}
