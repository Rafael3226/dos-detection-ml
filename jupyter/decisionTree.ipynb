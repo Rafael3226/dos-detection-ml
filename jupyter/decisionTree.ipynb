{
 "cells": [
  {
   "cell_type": "code",
   "execution_count": 1,
   "metadata": {},
   "outputs": [],
   "source": [
    "import pandas as pd\n",
    "from sklearn.tree import DecisionTreeClassifier\n",
    "from sklearn.metrics import accuracy_score\n",
    "\n",
    "# Load the training and test datasets\n",
    "train_df = pd.read_csv('../processed/training.csv')\n",
    "test_df = pd.read_csv('../processed/test.csv')\n",
    "\n",
    "# Select the features and target variable\n",
    "features = train_df.drop('is attack', axis=1)\n",
    "target = train_df['is attack']"
   ]
  },
  {
   "cell_type": "code",
   "execution_count": 2,
   "metadata": {},
   "outputs": [],
   "source": [
    "\n",
    "# Train the decision tree model\n",
    "model = DecisionTreeClassifier(random_state=42)\n",
    "model.fit(features.values, target.values)"
   ]
  },
  {
   "cell_type": "code",
   "execution_count": 3,
   "metadata": {},
   "outputs": [],
   "source": [
    "# export the model\n",
    "\n",
    "import pickle\n",
    "\n",
    "# Save the model to a file\n",
    "with open('../models/decision_tree_model.pkl', 'wb') as file:\n",
    "    pickle.dump(model, file)"
   ]
  },
  {
   "cell_type": "code",
   "execution_count": 4,
   "metadata": {},
   "outputs": [
    {
     "name": "stdout",
     "output_type": "stream",
     "text": [
      "Accuracy on test data: 0.9995791711887306\n"
     ]
    }
   ],
   "source": [
    "\n",
    "# Evaluate the model on the test data\n",
    "test_features = test_df.drop('is attack', axis=1)\n",
    "test_target = test_df['is attack']\n",
    "predictions = model.predict(test_features.values)\n",
    "accuracy = accuracy_score(test_target, predictions)\n",
    "\n",
    "print(\"Accuracy on test data:\", accuracy)"
   ]
  }
 ],
 "metadata": {
  "kernelspec": {
   "display_name": "Python 3",
   "language": "python",
   "name": "python3"
  },
  "language_info": {
   "codemirror_mode": {
    "name": "ipython",
    "version": 3
   },
   "file_extension": ".py",
   "mimetype": "text/x-python",
   "name": "python",
   "nbconvert_exporter": "python",
   "pygments_lexer": "ipython3",
   "version": "3.11.2"
  },
  "orig_nbformat": 4,
  "vscode": {
   "interpreter": {
    "hash": "c261aea317cc0286b3b3261fbba9abdec21eaa57589985bb7a274bf54d6cc0a7"
   }
  }
 },
 "nbformat": 4,
 "nbformat_minor": 2
}
