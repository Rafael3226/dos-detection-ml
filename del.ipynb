{
 "cells": [
  {
   "cell_type": "code",
   "execution_count": 2,
   "metadata": {},
   "outputs": [
    {
     "name": "stdout",
     "output_type": "stream",
     "text": [
      "[[5.0982000e+04 6.0000000e+00 6.0000000e+00 6.0000000e+00 0.0000000e+00\n",
      "  6.0000000e+00 6.0000000e+00 6.0000000e+00 0.0000000e+00 4.0639280e+06\n",
      "  1.0159820e+06 2.0175763e+06 4.0423130e+06 0.0000000e+00 6.0000000e+00\n",
      "  6.0000000e+00 6.0000000e+00 0.0000000e+00 0.0000000e+00 0.0000000e+00\n",
      "  0.0000000e+00 1.0000000e+00 5.0000000e+00 7.0000000e+00 6.0000000e+00\n",
      "  6.0000000e+00 6.0000000e+00 2.0000000e+01 0.0000000e+00]]\n"
     ]
    }
   ],
   "source": [
    "import pandas as pd\n",
    "\n",
    "# read the CSV file into a pandas DataFrame\n",
    "df = pd.read_csv('./processed/training.csv')\n",
    "\n",
    "# print the first row of data\n",
    "print(df.head(1).values)"
   ]
  }
 ],
 "metadata": {
  "kernelspec": {
   "display_name": "Python 3",
   "language": "python",
   "name": "python3"
  },
  "language_info": {
   "codemirror_mode": {
    "name": "ipython",
    "version": 3
   },
   "file_extension": ".py",
   "mimetype": "text/x-python",
   "name": "python",
   "nbconvert_exporter": "python",
   "pygments_lexer": "ipython3",
   "version": "3.11.2"
  },
  "orig_nbformat": 4
 },
 "nbformat": 4,
 "nbformat_minor": 2
}
